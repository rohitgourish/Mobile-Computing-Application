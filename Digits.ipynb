{
 "cells": [
  {
   "cell_type": "code",
   "execution_count": 11,
   "id": "86bb59ca",
   "metadata": {},
   "outputs": [
    {
     "name": "stdout",
     "output_type": "stream",
     "text": [
      "(60000, 28, 28) (60000,)\n"
     ]
    }
   ],
   "source": [
    "import keras\n",
    "from keras.datasets import mnist\n",
    "from keras.models import Sequential\n",
    "from keras.layers import Dense, Dropout, Flatten\n",
    "from keras.layers import Conv2D, MaxPooling2D\n",
    "from tensorflow.keras.layers import Input, BatchNormalization, MaxPool2D\n",
    "from keras import backend as K\n",
    "\n",
    "# the data, split between train and test sets\n",
    "(x_train, y_train), (x_test, y_test) = mnist.load_data()\n",
    "\n",
    "print(x_train.shape, y_train.shape)"
   ]
  },
  {
   "cell_type": "code",
   "execution_count": 12,
   "id": "6970b126",
   "metadata": {},
   "outputs": [
    {
     "data": {
      "text/plain": [
       "10"
      ]
     },
     "execution_count": 12,
     "metadata": {},
     "output_type": "execute_result"
    }
   ],
   "source": [
    "import numpy as np\n",
    "np.unique(y_train)\n",
    "num_classes = len(np.unique(y_train))\n",
    "num_classes"
   ]
  },
  {
   "cell_type": "code",
   "execution_count": 13,
   "id": "6e315be4",
   "metadata": {},
   "outputs": [
    {
     "name": "stdout",
     "output_type": "stream",
     "text": [
      "x_train shape: (60000, 28, 28, 1)\n",
      "60000 train samples\n",
      "10000 test samples\n"
     ]
    }
   ],
   "source": [
    "x_train = x_train.reshape(x_train.shape[0], 28, 28, 1)\n",
    "x_test = x_test.reshape(x_test.shape[0], 28, 28, 1)\n",
    "input_shape = (28, 28, 1)\n",
    "\n",
    "# convert class vectors to binary class matrices\n",
    "y_train = keras.utils.to_categorical(y_train, num_classes)\n",
    "y_test = keras.utils.to_categorical(y_test, num_classes)\n",
    "\n",
    "x_train = x_train.astype('float32')\n",
    "x_test = x_test.astype('float32')\n",
    "x_train /= 255\n",
    "x_test /= 255\n",
    "print('x_train shape:', x_train.shape)\n",
    "print(x_train.shape[0], 'train samples')\n",
    "print(x_test.shape[0], 'test samples')"
   ]
  },
  {
   "cell_type": "code",
   "execution_count": 21,
   "id": "8c8038c0",
   "metadata": {},
   "outputs": [],
   "source": [
    "model1 = Sequential(name='CNN')\n",
    "    \n",
    "model1.add(Conv2D(filters=32, kernel_size=(5,5), padding='same', activation='relu',\n",
    "                input_shape=(28, 28, 1)))\n",
    "model1.add(BatchNormalization())\n",
    "model1.add(Conv2D(filters=32, kernel_size=(5,5), padding='same', activation='relu'))\n",
    "model1.add(MaxPool2D(pool_size=(2, 2))\n",
    "model1.add(Dropout(rate=.25))\n",
    "\n",
    "model1.add(Conv2D(filters=64, kernel_size=(3,3), padding='same', activation='relu'))\n",
    "model1.add(BatchNormalization())\n",
    "model1.add(Conv2D(filters=64, kernel_size=(3,3), padding='same', activation='relu'))\n",
    "model1.add(MaxPool2D(pool_size=(2, 2), strides=(2, 2)))  # Downscale\n",
    "model1.add(Dropout(rate=.25))\n",
    "\n",
    "model1.add(Flatten())\n",
    "model1.add(Dense(256, activation='relu'))\n",
    "model1.add(Dropout(rate=.5))\n",
    "model1.add(Dense(10, activation='softmax'))\n",
    "\n",
    "model1.compile(optimizer='adam', loss='categorical_crossentropy', metrics=['accuracy'])"
   ]
  },
  {
   "cell_type": "code",
   "execution_count": 23,
   "id": "a5b4da37",
   "metadata": {},
   "outputs": [
    {
     "name": "stdout",
     "output_type": "stream",
     "text": [
      "Epoch 1/10\n",
      "1875/1875 [==============================] - 290s 155ms/step - loss: 0.1535 - accuracy: 0.9556 - val_loss: 0.0333 - val_accuracy: 0.9876\n",
      "Epoch 2/10\n",
      "1875/1875 [==============================] - 305s 163ms/step - loss: 0.0922 - accuracy: 0.9746 - val_loss: 0.0474 - val_accuracy: 0.9875\n",
      "Epoch 3/10\n",
      "1875/1875 [==============================] - 348s 186ms/step - loss: 0.0702 - accuracy: 0.9811 - val_loss: 0.0369 - val_accuracy: 0.9885\n",
      "Epoch 4/10\n",
      "1875/1875 [==============================] - 324s 173ms/step - loss: 0.0615 - accuracy: 0.9830 - val_loss: 0.0255 - val_accuracy: 0.9923\n",
      "Epoch 5/10\n",
      "1875/1875 [==============================] - 395s 211ms/step - loss: 0.0538 - accuracy: 0.9854 - val_loss: 0.0371 - val_accuracy: 0.9886\n",
      "Epoch 6/10\n",
      "1875/1875 [==============================] - 412s 220ms/step - loss: 0.0486 - accuracy: 0.9871 - val_loss: 0.0220 - val_accuracy: 0.9924\n",
      "Epoch 7/10\n",
      "1875/1875 [==============================] - 364s 194ms/step - loss: 0.0488 - accuracy: 0.9871 - val_loss: 0.0233 - val_accuracy: 0.9936\n",
      "Epoch 8/10\n",
      "1875/1875 [==============================] - 372s 198ms/step - loss: 0.0407 - accuracy: 0.9894 - val_loss: 0.0239 - val_accuracy: 0.9943\n",
      "Epoch 9/10\n",
      "1875/1875 [==============================] - 364s 194ms/step - loss: 0.0400 - accuracy: 0.9894 - val_loss: 0.0262 - val_accuracy: 0.9934\n",
      "Epoch 10/10\n",
      "1875/1875 [==============================] - 387s 206ms/step - loss: 0.0392 - accuracy: 0.9897 - val_loss: 0.0233 - val_accuracy: 0.9940\n",
      "The model has successfully trained\n",
      "Saving the model as mnist.h5\n"
     ]
    }
   ],
   "source": [
    "hist = model1.fit(x_train, y_train, epochs=10, validation_data=(x_test, y_test), verbose=1)\n",
    "print(\"The model has successfully trained\")\n",
    "\n",
    "model.save('mnist2.h5')\n",
    "print(\"Saving the model as mnist.h5\")"
   ]
  },
  {
   "cell_type": "code",
   "execution_count": 24,
   "id": "e378fafa",
   "metadata": {},
   "outputs": [
    {
     "name": "stdout",
     "output_type": "stream",
     "text": [
      "313/313 [==============================] - 5s 13ms/step\n"
     ]
    }
   ],
   "source": [
    "y_pred = model.predict(x_test)"
   ]
  },
  {
   "cell_type": "code",
   "execution_count": 25,
   "id": "7a1e6e81",
   "metadata": {},
   "outputs": [
    {
     "data": {
      "text/plain": [
       "array([[0.10385791, 0.10333262, 0.09572763, ..., 0.09555325, 0.0970789 ,\n",
       "        0.1017554 ],\n",
       "       [0.09816667, 0.10323637, 0.09780297, ..., 0.09842905, 0.0983981 ,\n",
       "        0.09654094],\n",
       "       [0.10268214, 0.10445961, 0.0998617 , ..., 0.09981708, 0.1009903 ,\n",
       "        0.09865734],\n",
       "       ...,\n",
       "       [0.1049788 , 0.1051874 , 0.1036815 , ..., 0.09364278, 0.10086976,\n",
       "        0.09958662],\n",
       "       [0.10462417, 0.10116775, 0.09968074, ..., 0.0928559 , 0.10015117,\n",
       "        0.09555851],\n",
       "       [0.10622799, 0.10002553, 0.09535766, ..., 0.09683852, 0.10706969,\n",
       "        0.08991738]], dtype=float32)"
      ]
     },
     "execution_count": 25,
     "metadata": {},
     "output_type": "execute_result"
    }
   ],
   "source": [
    "y_pred"
   ]
  },
  {
   "cell_type": "code",
   "execution_count": 27,
   "id": "31825b67",
   "metadata": {},
   "outputs": [
    {
     "name": "stdout",
     "output_type": "stream",
     "text": [
      "313/313 [==============================] - 9s 28ms/step - loss: 0.0233 - accuracy: 0.9940\n"
     ]
    },
    {
     "data": {
      "text/plain": [
       "[0.0232900008559227, 0.9940000176429749]"
      ]
     },
     "execution_count": 27,
     "metadata": {},
     "output_type": "execute_result"
    }
   ],
   "source": [
    "model1.evaluate(x_test, y_test)"
   ]
  },
  {
   "cell_type": "code",
   "execution_count": 13,
   "id": "a72d0b28",
   "metadata": {},
   "outputs": [
    {
     "data": {
      "text/plain": [
       "array([0.00629686, 0.00538881, 0.00947797, 0.01490118, 0.0210649 ,\n",
       "       0.01383418, 0.00269676, 0.8692795 , 0.02510904, 0.0319509 ],\n",
       "      dtype=float32)"
      ]
     },
     "execution_count": 13,
     "metadata": {},
     "output_type": "execute_result"
    }
   ],
   "source": [
    "y_pred[0]"
   ]
  },
  {
   "cell_type": "code",
   "execution_count": 15,
   "id": "3954850c",
   "metadata": {},
   "outputs": [
    {
     "data": {
      "text/plain": [
       "2"
      ]
     },
     "execution_count": 15,
     "metadata": {},
     "output_type": "execute_result"
    }
   ],
   "source": [
    "np.argmax(y_pred[1])"
   ]
  },
  {
   "cell_type": "code",
   "execution_count": 31,
   "id": "d8d120df",
   "metadata": {},
   "outputs": [
    {
     "name": "stdout",
     "output_type": "stream",
     "text": [
      "1/1 [==============================] - 0s 32ms/step\n"
     ]
    }
   ],
   "source": [
    "from PIL import Image\n",
    "img = Image.open('/Users/gk/Desktop/two.jpeg')\n",
    "img = img.resize((28,28))\n",
    "img = img.convert('L')\n",
    "img = np.array(img)\n",
    "img = img.reshape(1,28,28,1)\n",
    "img = img/255.0\n",
    "res = model.predict([img])"
   ]
  },
  {
   "cell_type": "code",
   "execution_count": 32,
   "id": "6a633606",
   "metadata": {},
   "outputs": [
    {
     "data": {
      "text/plain": [
       "array([[3.0323902e-01, 9.2457354e-05, 2.5537586e-01, 5.8284387e-02,\n",
       "        1.6750066e-02, 3.3490950e-01, 1.8380834e-02, 3.0303765e-03,\n",
       "        9.4010914e-03, 5.3635309e-04]], dtype=float32)"
      ]
     },
     "execution_count": 32,
     "metadata": {},
     "output_type": "execute_result"
    }
   ],
   "source": [
    "res"
   ]
  },
  {
   "cell_type": "code",
   "execution_count": 33,
   "id": "65e7727d",
   "metadata": {},
   "outputs": [
    {
     "data": {
      "text/plain": [
       "5"
      ]
     },
     "execution_count": 33,
     "metadata": {},
     "output_type": "execute_result"
    }
   ],
   "source": [
    "np.argmax(res[0])"
   ]
  },
  {
   "cell_type": "code",
   "execution_count": null,
   "id": "6c15d0d9",
   "metadata": {},
   "outputs": [],
   "source": []
  },
  {
   "cell_type": "code",
   "execution_count": null,
   "id": "3ccd6eb2",
   "metadata": {},
   "outputs": [],
   "source": []
  }
 ],
 "metadata": {
  "kernelspec": {
   "display_name": "Python 3 (ipykernel)",
   "language": "python",
   "name": "python3"
  },
  "language_info": {
   "codemirror_mode": {
    "name": "ipython",
    "version": 3
   },
   "file_extension": ".py",
   "mimetype": "text/x-python",
   "name": "python",
   "nbconvert_exporter": "python",
   "pygments_lexer": "ipython3",
   "version": "3.10.6"
  }
 },
 "nbformat": 4,
 "nbformat_minor": 5
}
